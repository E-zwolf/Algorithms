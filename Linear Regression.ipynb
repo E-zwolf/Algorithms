{
 "cells": [
  {
   "cell_type": "markdown",
   "id": "104fef84",
   "metadata": {},
   "source": [
    "## Ordinary Least Squares\n",
    "Ordinary Least Squares(OLS) follows a linear relationship,\n",
    "$$\n",
    "\\hat{Y} \\approx \\beta_0+\\beta_1X\n",
    "$$\n",
    "\n",
    "Residual Sum of Squares(RSS) is used as cost function. It is described as a the distance of the true Y away from the predicted Y. Intuitively, each distance is squared to produce or weigh in more score to points that are farther to true Y.\n",
    "$$\n",
    "RSS = \\sum_{i=1}^{N}(y_i-\\hat{y}_i)^2\n",
    "$$\n",
    "\n",
    "#### Estimating the coefficients,\n",
    "$$\n",
    "\\begin{align}\n",
    "\\hat{\\beta}_1 &= \\frac{\\sum_{i=1}^n(x_i-\\overline{x})(y_i-\\overline{y})}{\\sum_{i=1}^n(x_i-\\overline{x})^2}\\\\\n",
    "\\hat{\\beta}_0 &= \\overline{y}-\\hat{\\beta}_1\\overline{x}\n",
    "\\end{align}\n",
    "$$\n",
    "\n",
    "For assessing the accuracy of the coefficients, we will need to compute the standard error for each coefficients\n",
    "$$\n",
    "SE(\\hat{\\beta}_0)^2 = \\sigma^2\\left[\\frac{1}{n}+\\frac{\\overline{x}^2}{\\sum_{i=1}^n(x_i-\\overline{x})^2}\\right],\n",
    "SE(\\hat{\\beta}_1)^2 = \\frac{\\sigma^2}{\\sum_{i=1}^n(x_i-\\overline{x})^2}\n",
    "$$\n",
    "where $\\sigma^2 = Var(\\epsilon)$ or the variance of errors\n",
    "\n",
    "For the confidence interval(example 95%(approx 2 std) confidence interval),\n",
    "$$\n",
    "[\\hat{\\beta}_1 - 2 \\cdot SE(\\hat{\\beta}_1), \\hat{\\beta}_1 + 2 \\cdot SE(\\hat{\\beta}_1)],\\\\\n",
    "[\\hat{\\beta}_0 - 2 \\cdot SE(\\hat{\\beta}_0), \\hat{\\beta}_0 + 2 \\cdot SE(\\hat{\\beta}_0)]\n",
    "$$\n",
    "\n",
    "Hypotheis tests can also be performed on the coefficients,\n",
    "$$H_0: \\text{ There is no relationship between X and Y}$$\n",
    "$$H_\\alpha: \\text{ There is some relationship between X and Y}$$\n",
    "This corresponds to testing,\n",
    "$$H_0: \\beta_1 = 0$$\n",
    "$$H_\\alpha: \\beta_1 \\neq 0$$\n",
    "We will then compute the t-statistic given by\n",
    "$$\n",
    "t = \\frac{\\hat{\\beta}_1-0}{SE(\\hat{\\beta}_1)}\n",
    "$$\n",
    "Then lookup the p-value on the t-distribution table with n-2 degrees of freedom.\n",
    "\n",
    "<sub>Similar to Z score, where in z score is how many standard deviations is the estimate away from the mean.<br>T-statistic on the other hand, is a measure on how many standard error (error distance) is the coefficient away from zero<br>Zero since we want to know if coeffcient is equal to zero<br>P-value is high the more t-statistic is closer to zero, and if the sample size is small</sub>\n",
    "\n",
    "#### Assessing accuracy of the model\n",
    "RSE or Residual Standard Error is the average amount that the response will deviate from the true regression line\n",
    "\n",
    "$$\n",
    "RSE = \\sqrt{\\frac{1}{n-2}RSS}\n",
    "$$\n",
    "\n",
    "$R^2$ provides a proportion--proportion of variance explained\n",
    "\n",
    "$$\n",
    "R^2 = \\frac{TSS-RSS}{TSS} = 1-\\frac{RSS}{TSS}\n",
    "$$\n",
    "\n",
    "where $TSS = \\sum(y_i-\\overline{y})^2$ or total sum of squares. $R^2$ tells us the proportion or ratio between the distance from the fitted line, and the distance away from the mean."
   ]
  },
  {
   "cell_type": "code",
   "execution_count": 18,
   "id": "c0c9dcb5",
   "metadata": {},
   "outputs": [],
   "source": [
    "import numpy as np\n",
    "import pandas as pd\n",
    "import matplotlib.pyplot as plt\n",
    "from scipy.stats import t\n",
    "import seaborn as sns\n",
    "sns.set()\n",
    "%matplotlib inline\n",
    "\n",
    "def ols(b0, b1, x):\n",
    "    y = b0+(b1*x)\n",
    "    return y\n",
    "\n",
    "def estimate_coefficients(X, Y):\n",
    "    n = 0\n",
    "    d = 0\n",
    "    y_mean = np.mean(Y)\n",
    "    x_mean = np.mean(X)\n",
    "    for i in range(len(X)):\n",
    "        for x, y in zip(X, Y):\n",
    "            _ = x - x_mean\n",
    "            d += _**2\n",
    "            n+= (_)*(y-y_mean)\n",
    "    b1 = n/d\n",
    "    b0 = y_mean-(b1*x_mean)\n",
    "    return b0, b1\n",
    "\n",
    "def rss(y, x, b0, b1):\n",
    "    return np.sum((y-(b0+(b1*x)))**2)\n",
    "\n",
    "def mse(y, x, b0, b1):\n",
    "    return rss(y, x, b0, b1)/len(y)\n",
    "\n",
    "def std_error(x, y):\n",
    "    d = 0\n",
    "    for i in x:\n",
    "        d+=np.power(i - np.mean(x), 2)\n",
    "    \n",
    "    b0 = np.sqrt(np.var(y, ddof=1)*((1/np.size(x))+(np.power(np.mean(x), 2)/d)))\n",
    "    b1 = np.sqrt((np.std(y)**2)/d)\n",
    "    \n",
    "    return b0, b1\n",
    "\n",
    "def rse(y, x, b0, b1):\n",
    "    return np.sqrt(rss(y, x, b0, b1)/(np.size(y)-2))\n",
    "\n",
    "def t_test(x, y, b0, b1):\n",
    "    std0, std1 = std_error(x, y)\n",
    "    return (b0-0)/std0, (b1-0)/std1\n",
    "\n",
    "def r2(y, rs):\n",
    "    tss = 0\n",
    "    for i in y:\n",
    "        tss+=(i-np.mean(y))**2\n",
    "    return 1-(rs/tss)\n",
    "\n",
    "def ols_result(x, y):\n",
    "    b0, b1 = estimate_coefficients(x, y)\n",
    "    e = y - ols(b0, b1, x)\n",
    "    stde0, stde1 = std_error(x, e)\n",
    "    t_stat0, t_stat1 = t_test(x, e, b0, b1)\n",
    "    p_value1, p_value0 = t.sf(t_stat1, df=n-2),t.sf(t_stat0, df=n-2)\n",
    "    return pd.DataFrame(index=['Intercept', 'B1'],\n",
    "            data={'Coefficient':[b0, b1],\n",
    "                  'Std. error':[stde0, stde1],\n",
    "                  't-statistic':[t_stat0, t_stat1],\n",
    "                  'p-value':[p_value0, p_value1]\n",
    "                 }).round(4)"
   ]
  },
  {
   "cell_type": "code",
   "execution_count": 5,
   "id": "24f3aebc",
   "metadata": {},
   "outputs": [
    {
     "data": {
      "text/html": [
       "<div>\n",
       "<style scoped>\n",
       "    .dataframe tbody tr th:only-of-type {\n",
       "        vertical-align: middle;\n",
       "    }\n",
       "\n",
       "    .dataframe tbody tr th {\n",
       "        vertical-align: top;\n",
       "    }\n",
       "\n",
       "    .dataframe thead th {\n",
       "        text-align: right;\n",
       "    }\n",
       "</style>\n",
       "<table border=\"1\" class=\"dataframe\">\n",
       "  <thead>\n",
       "    <tr style=\"text-align: right;\">\n",
       "      <th></th>\n",
       "      <th>TV</th>\n",
       "      <th>Radio</th>\n",
       "      <th>Newspaper</th>\n",
       "      <th>Sales</th>\n",
       "    </tr>\n",
       "  </thead>\n",
       "  <tbody>\n",
       "    <tr>\n",
       "      <th>0</th>\n",
       "      <td>230.1</td>\n",
       "      <td>37.8</td>\n",
       "      <td>69.2</td>\n",
       "      <td>22.1</td>\n",
       "    </tr>\n",
       "    <tr>\n",
       "      <th>1</th>\n",
       "      <td>44.5</td>\n",
       "      <td>39.3</td>\n",
       "      <td>45.1</td>\n",
       "      <td>10.4</td>\n",
       "    </tr>\n",
       "    <tr>\n",
       "      <th>2</th>\n",
       "      <td>17.2</td>\n",
       "      <td>45.9</td>\n",
       "      <td>69.3</td>\n",
       "      <td>9.3</td>\n",
       "    </tr>\n",
       "    <tr>\n",
       "      <th>3</th>\n",
       "      <td>151.5</td>\n",
       "      <td>41.3</td>\n",
       "      <td>58.5</td>\n",
       "      <td>18.5</td>\n",
       "    </tr>\n",
       "    <tr>\n",
       "      <th>4</th>\n",
       "      <td>180.8</td>\n",
       "      <td>10.8</td>\n",
       "      <td>58.4</td>\n",
       "      <td>12.9</td>\n",
       "    </tr>\n",
       "  </tbody>\n",
       "</table>\n",
       "</div>"
      ],
      "text/plain": [
       "      TV  Radio  Newspaper  Sales\n",
       "0  230.1   37.8       69.2   22.1\n",
       "1   44.5   39.3       45.1   10.4\n",
       "2   17.2   45.9       69.3    9.3\n",
       "3  151.5   41.3       58.5   18.5\n",
       "4  180.8   10.8       58.4   12.9"
      ]
     },
     "execution_count": 5,
     "metadata": {},
     "output_type": "execute_result"
    }
   ],
   "source": [
    "df = pd.read_csv('Advertising.csv')\n",
    "df = df[df.columns[1:]]\n",
    "n = df.shape[0]\n",
    "df.head()"
   ]
  },
  {
   "cell_type": "code",
   "execution_count": 6,
   "id": "e4a4223d",
   "metadata": {},
   "outputs": [
    {
     "data": {
      "text/plain": [
       "(7.032593549127485, 0.047536640433021186)"
      ]
     },
     "execution_count": 6,
     "metadata": {},
     "output_type": "execute_result"
    }
   ],
   "source": [
    "b0, b1 = estimate_coefficients(df.TV, df.Sales)\n",
    "b0, b1"
   ]
  },
  {
   "cell_type": "code",
   "execution_count": 7,
   "id": "a43485fc",
   "metadata": {},
   "outputs": [
    {
     "data": {
      "text/plain": [
       "2102.5305831313512"
      ]
     },
     "execution_count": 7,
     "metadata": {},
     "output_type": "execute_result"
    }
   ],
   "source": [
    "rs = rss(df.Sales, df.TV, b0, b1)\n",
    "rs"
   ]
  },
  {
   "cell_type": "code",
   "execution_count": 8,
   "id": "62cccaa6",
   "metadata": {},
   "outputs": [
    {
     "data": {
      "image/png": "[encoded data removed]",
      "text/plain": [
       "<Figure size 360x216 with 1 Axes>"
      ]
     },
     "metadata": {
      "needs_background": "light"
     },
     "output_type": "display_data"
    }
   ],
   "source": [
    "plt.figure(figsize=(5,3))\n",
    "plt.title('b0={:.2f}, b1={:.2f}, RSS={:.2f}'.format(b0, b1, rs))\n",
    "sns.scatterplot(data = df,x = 'TV', y='Sales', linewidth=0, s=10, color='red')\n",
    "plt.plot(df.TV, [ols(b0, b1, i) for i in df.TV], linewidth=0.5)\n",
    "\n",
    "plt.show()"
   ]
  },
  {
   "cell_type": "code",
   "execution_count": 9,
   "id": "2e3fe1d7",
   "metadata": {},
   "outputs": [
    {
     "data": {
      "text/plain": [
       "array([-6.        , -5.5862069 , -5.17241379, -4.75862069, -4.34482759,\n",
       "       -3.93103448, -3.51724138, -3.10344828, -2.68965517, -2.27586207,\n",
       "       -1.86206897, -1.44827586, -1.03448276, -0.62068966, -0.20689655,\n",
       "        0.20689655,  0.62068966,  1.03448276,  1.44827586,  1.86206897,\n",
       "        2.27586207,  2.68965517,  3.10344828,  3.51724138,  3.93103448,\n",
       "        4.34482759,  4.75862069,  5.17241379,  5.5862069 ,  6.        ])"
      ]
     },
     "execution_count": 9,
     "metadata": {},
     "output_type": "execute_result"
    }
   ],
   "source": [
    "np.linspace(-6, 6, 30)"
   ]
  },
  {
   "cell_type": "code",
   "execution_count": 10,
   "id": "8b58d0d5",
   "metadata": {},
   "outputs": [
    {
     "data": {
      "image/png": "[encoded data removed]",
      "text/plain": [
       "<Figure size 360x360 with 1 Axes>"
      ]
     },
     "metadata": {
      "needs_background": "light"
     },
     "output_type": "display_data"
    }
   ],
   "source": [
    "x0 = np.concatenate([np.linspace(b0-3,b0, 10),np.linspace(b0,b0+3, 10)])\n",
    "x1 = np.concatenate([np.linspace(b1-3,b1, 10),np.linspace(b1,b1+3, 10)])\n",
    "\n",
    "X, Y = np.meshgrid(x0, x1)\n",
    "Z = []\n",
    "\n",
    "for i in x0:\n",
    "    _ = []\n",
    "    for j in x1:\n",
    "        _.append(rss(df.Sales, df.TV, i, j))\n",
    "    Z.append(_)\n",
    "Z = np.array(Z)\n",
    "\n",
    "fig = plt.figure(figsize=(5,5))\n",
    "ax = plt.axes(projection='3d')\n",
    "ax.plot_wireframe(X, Y, Z)\n",
    "ax.scatter(b0, b1, rss(df.Sales, df.TV, b0, b1), color='red')\n",
    "ax.set_xlabel('beta0')\n",
    "ax.set_ylabel('beta1')\n",
    "ax.set_zlabel('RSS')\n",
    "ax.view_init(30, -60)"
   ]
  },
  {
   "cell_type": "code",
   "execution_count": 11,
   "id": "2bb95041",
   "metadata": {},
   "outputs": [
    {
     "data": {
      "text/plain": [
       "3.2586563686504624"
      ]
     },
     "execution_count": 11,
     "metadata": {},
     "output_type": "execute_result"
    }
   ],
   "source": [
    "rse(df.Sales, df.TV, b0, b1)"
   ]
  },
  {
   "cell_type": "code",
   "execution_count": 12,
   "id": "0ab0bdee",
   "metadata": {},
   "outputs": [
    {
     "data": {
      "text/plain": [
       "[0.042182399732927874, 0.0528908811331145]"
      ]
     },
     "execution_count": 12,
     "metadata": {},
     "output_type": "execute_result"
    }
   ],
   "source": [
    "# 95% Confidence  interval for b1\n",
    "# where in sigma is the standard deviation of residuals\n",
    "\n",
    "e = df.Sales - ols(b0, b1, df.TV)\n",
    "stde0, stde1 = std_error(df.TV, e)\n",
    "[b1-(2*stde1), \n",
    " b1+(2*stde1)]"
   ]
  },
  {
   "cell_type": "code",
   "execution_count": 13,
   "id": "844dcd82",
   "metadata": {},
   "outputs": [
    {
     "data": {
      "text/plain": [
       "(0.4566911323097187, 0.0026771203500466573)"
      ]
     },
     "execution_count": 13,
     "metadata": {},
     "output_type": "execute_result"
    }
   ],
   "source": [
    "stde0, stde1"
   ]
  },
  {
   "cell_type": "code",
   "execution_count": 14,
   "id": "c44cab84",
   "metadata": {},
   "outputs": [
    {
     "data": {
      "text/plain": [
       "[6.119211284508047, 7.945975813746923]"
      ]
     },
     "execution_count": 14,
     "metadata": {},
     "output_type": "execute_result"
    }
   ],
   "source": [
    "[b0-(2*stde0), \n",
    " b0+(2*stde0)]"
   ]
  },
  {
   "cell_type": "code",
   "execution_count": 19,
   "id": "0757339b",
   "metadata": {},
   "outputs": [
    {
     "data": {
      "text/plain": [
       "(15.399014895603715, 17.756631834722228)"
      ]
     },
     "execution_count": 19,
     "metadata": {},
     "output_type": "execute_result"
    }
   ],
   "source": [
    "t_stat1, t_stat0 = t_test(df.TV, e, b0, b1)\n",
    "t_stat1, t_stat0"
   ]
  },
  {
   "cell_type": "code",
   "execution_count": 20,
   "id": "86e5b817",
   "metadata": {},
   "outputs": [
    {
     "data": {
      "text/plain": [
       "'pb1 = 0.00000, pb0 = 0.00000'"
      ]
     },
     "execution_count": 20,
     "metadata": {},
     "output_type": "execute_result"
    }
   ],
   "source": [
    "p_value1, p_value0 = t.sf(t_stat1, df=n-2),t.sf(t_stat0, df=n-2)\n",
    "f'pb1 = {p_value1:.5f}, pb0 = {p_value0:.5f}'"
   ]
  },
  {
   "cell_type": "code",
   "execution_count": 21,
   "id": "68d7003e",
   "metadata": {},
   "outputs": [
    {
     "data": {
      "text/html": [
       "<div>\n",
       "<style scoped>\n",
       "    .dataframe tbody tr th:only-of-type {\n",
       "        vertical-align: middle;\n",
       "    }\n",
       "\n",
       "    .dataframe tbody tr th {\n",
       "        vertical-align: top;\n",
       "    }\n",
       "\n",
       "    .dataframe thead th {\n",
       "        text-align: right;\n",
       "    }\n",
       "</style>\n",
       "<table border=\"1\" class=\"dataframe\">\n",
       "  <thead>\n",
       "    <tr style=\"text-align: right;\">\n",
       "      <th></th>\n",
       "      <th>Coefficient</th>\n",
       "      <th>Std. error</th>\n",
       "      <th>t-statistic</th>\n",
       "      <th>p-value</th>\n",
       "    </tr>\n",
       "  </thead>\n",
       "  <tbody>\n",
       "    <tr>\n",
       "      <th>Intercept</th>\n",
       "      <td>7.0326</td>\n",
       "      <td>0.4567</td>\n",
       "      <td>15.3990</td>\n",
       "      <td>0.0</td>\n",
       "    </tr>\n",
       "    <tr>\n",
       "      <th>B1</th>\n",
       "      <td>0.0475</td>\n",
       "      <td>0.0027</td>\n",
       "      <td>17.7566</td>\n",
       "      <td>0.0</td>\n",
       "    </tr>\n",
       "  </tbody>\n",
       "</table>\n",
       "</div>"
      ],
      "text/plain": [
       "           Coefficient  Std. error  t-statistic  p-value\n",
       "Intercept       7.0326      0.4567      15.3990      0.0\n",
       "B1              0.0475      0.0027      17.7566      0.0"
      ]
     },
     "execution_count": 21,
     "metadata": {},
     "output_type": "execute_result"
    }
   ],
   "source": [
    "ols_result(df.TV, df.Sales)"
   ]
  },
  {
   "cell_type": "code",
   "execution_count": 22,
   "id": "c4816215",
   "metadata": {},
   "outputs": [
    {
     "data": {
      "text/plain": [
       "3.2586563686504624"
      ]
     },
     "execution_count": 22,
     "metadata": {},
     "output_type": "execute_result"
    }
   ],
   "source": [
    "rse(df.Sales, df.TV, b0, b1)"
   ]
  },
  {
   "cell_type": "code",
   "execution_count": 23,
   "id": "425e0a69",
   "metadata": {},
   "outputs": [
    {
     "data": {
      "text/plain": [
       "0.6118750508500709"
      ]
     },
     "execution_count": 23,
     "metadata": {},
     "output_type": "execute_result"
    }
   ],
   "source": [
    "r2(df.Sales, rs)"
   ]
  },
  {
   "cell_type": "code",
   "execution_count": 24,
   "id": "2b33d2fb",
   "metadata": {},
   "outputs": [
    {
     "data": {
      "text/html": [
       "<div>\n",
       "<style scoped>\n",
       "    .dataframe tbody tr th:only-of-type {\n",
       "        vertical-align: middle;\n",
       "    }\n",
       "\n",
       "    .dataframe tbody tr th {\n",
       "        vertical-align: top;\n",
       "    }\n",
       "\n",
       "    .dataframe thead th {\n",
       "        text-align: right;\n",
       "    }\n",
       "</style>\n",
       "<table border=\"1\" class=\"dataframe\">\n",
       "  <thead>\n",
       "    <tr style=\"text-align: right;\">\n",
       "      <th></th>\n",
       "      <th>Coefficient</th>\n",
       "      <th>Std. error</th>\n",
       "      <th>t-statistic</th>\n",
       "      <th>p-value</th>\n",
       "    </tr>\n",
       "  </thead>\n",
       "  <tbody>\n",
       "    <tr>\n",
       "      <th>Intercept</th>\n",
       "      <td>9.3116</td>\n",
       "      <td>0.5615</td>\n",
       "      <td>16.5840</td>\n",
       "      <td>0.0</td>\n",
       "    </tr>\n",
       "    <tr>\n",
       "      <th>B1</th>\n",
       "      <td>0.2025</td>\n",
       "      <td>0.0203</td>\n",
       "      <td>9.9707</td>\n",
       "      <td>0.0</td>\n",
       "    </tr>\n",
       "  </tbody>\n",
       "</table>\n",
       "</div>"
      ],
      "text/plain": [
       "           Coefficient  Std. error  t-statistic  p-value\n",
       "Intercept       9.3116      0.5615      16.5840      0.0\n",
       "B1              0.2025      0.0203       9.9707      0.0"
      ]
     },
     "execution_count": 24,
     "metadata": {},
     "output_type": "execute_result"
    }
   ],
   "source": [
    "ols_result(df.Radio, df.Sales)"
   ]
  },
  {
   "cell_type": "code",
   "execution_count": 25,
   "id": "d35bcd8b",
   "metadata": {},
   "outputs": [
    {
     "data": {
      "text/html": [
       "<div>\n",
       "<style scoped>\n",
       "    .dataframe tbody tr th:only-of-type {\n",
       "        vertical-align: middle;\n",
       "    }\n",
       "\n",
       "    .dataframe tbody tr th {\n",
       "        vertical-align: top;\n",
       "    }\n",
       "\n",
       "    .dataframe thead th {\n",
       "        text-align: right;\n",
       "    }\n",
       "</style>\n",
       "<table border=\"1\" class=\"dataframe\">\n",
       "  <thead>\n",
       "    <tr style=\"text-align: right;\">\n",
       "      <th></th>\n",
       "      <th>Coefficient</th>\n",
       "      <th>Std. error</th>\n",
       "      <th>t-statistic</th>\n",
       "      <th>p-value</th>\n",
       "    </tr>\n",
       "  </thead>\n",
       "  <tbody>\n",
       "    <tr>\n",
       "      <th>Intercept</th>\n",
       "      <td>12.3514</td>\n",
       "      <td>0.6199</td>\n",
       "      <td>19.9262</td>\n",
       "      <td>0.0000</td>\n",
       "    </tr>\n",
       "    <tr>\n",
       "      <th>B1</th>\n",
       "      <td>0.0547</td>\n",
       "      <td>0.0165</td>\n",
       "      <td>3.3162</td>\n",
       "      <td>0.0005</td>\n",
       "    </tr>\n",
       "  </tbody>\n",
       "</table>\n",
       "</div>"
      ],
      "text/plain": [
       "           Coefficient  Std. error  t-statistic  p-value\n",
       "Intercept      12.3514      0.6199      19.9262   0.0000\n",
       "B1              0.0547      0.0165       3.3162   0.0005"
      ]
     },
     "execution_count": 25,
     "metadata": {},
     "output_type": "execute_result"
    }
   ],
   "source": [
    "ols_result(df.Newspaper, df.Sales)"
   ]
  },
  {
   "cell_type": "markdown",
   "id": "5d5be269",
   "metadata": {},
   "source": [
    "## Multiple Linear Regression\n",
    "$$\n",
    "\\hat{Y} \\approx \\beta_0+\\beta_1X_1+\\beta_2X_2+...+\\beta_pX_p+\\epsilon\n",
    "$$\n",
    "\n",
    "Let \n",
    "$$\n",
    "y = \\begin{bmatrix}y_1\\\\y_2\\\\\\vdots\\\\y_n\\end{bmatrix},\\hspace{1em}\n",
    "X = \\begin{bmatrix}\n",
    "1 &x_{11} &x_{12} &\\cdots &x_{1k}\\\\\n",
    "1 &x_{11} &x_{12} &\\cdots &x_{1k}\\\\\n",
    "\\vdots &\\vdots &\\vdots & &\\vdots\\\\\n",
    "1 &x_{n1} &x_{n2} &\\cdots &x_{nk}\n",
    "\\end{bmatrix}\\\\\n",
    "\\beta = \\begin{bmatrix}\\beta_0\\\\\\beta_1\\\\\\vdots\\\\\\beta_k\\end{bmatrix},\\hspace{1em}\n",
    "\\epsilon = \\begin{bmatrix}\\epsilon_1\\\\\\epsilon_2\\\\\\vdots\\\\\\epsilon_n\\end{bmatrix}\n",
    "$$\n",
    "\n",
    "With this compact notation, linear regression model can be written in the form\n",
    "$$y = X\\beta+\\epsilon$$\n",
    "\n",
    "<sub>Remember that an m x n matrix multiplied by n x p matrix = m x p matrix<br>For example, $X\\beta = (n \\times k)(k\\times1) = n \\times 1$</sub>\n",
    "\n",
    "In linear algeba terms, the least-squares parameter estimates $\\beta$ are the vectors that minimize\n",
    "$$\n",
    "\\sum_{i=1}^{n} = \\epsilon_i^2 = \\epsilon^T\\epsilon = (y-X\\beta)^T(y-X\\beta)\n",
    "$$\n",
    "\n",
    "If all $\\epsilon_i$ were zero, then\n",
    "$$\\hat{y} = X\\hat{\\beta}$$\n",
    "\n",
    "Then the residuals $y-\\hat{y}$ are orthogonal to the columns of X(**Orthogonal Decomposition**) thus,\n",
    "$$\n",
    "X^T(y-X\\hat{\\beta}) = 0\\\\\n",
    "X^Ty-X^TX\\hat{\\beta} = 0\\\\\n",
    "X^TX\\hat{\\beta} = X^Ty\\\\\n",
    "\\hat{\\beta} = (X^TX)^{-1}X^Ty\n",
    "$$"
   ]
  },
  {
   "cell_type": "code",
   "execution_count": 29,
   "id": "9b96247c",
   "metadata": {},
   "outputs": [
    {
     "data": {
      "text/plain": [
       "(200,)"
      ]
     },
     "execution_count": 29,
     "metadata": {},
     "output_type": "execute_result"
    }
   ],
   "source": [
    "df.Sales.shape"
   ]
  },
  {
   "cell_type": "code",
   "execution_count": 38,
   "id": "fa0204b6",
   "metadata": {},
   "outputs": [
    {
     "data": {
      "text/plain": [
       "(200, 4)"
      ]
     },
     "execution_count": 38,
     "metadata": {},
     "output_type": "execute_result"
    }
   ],
   "source": [
    "df['Coeff'] = 1\n",
    "df[['Coeff', 'TV', 'Radio', 'Newspaper']].values.shape"
   ]
  },
  {
   "cell_type": "code",
   "execution_count": 41,
   "id": "1d8bed74",
   "metadata": {},
   "outputs": [],
   "source": [
    "X = df[['Coeff', 'TV', 'Radio', 'Newspaper']].values\n",
    "y = df.Sales\n",
    "beta = np.matmul(np.linalg.inv(np.matmul(X.T, X)), np.matmul(X.T, y))"
   ]
  },
  {
   "cell_type": "code",
   "execution_count": 42,
   "id": "e4fbc274",
   "metadata": {},
   "outputs": [
    {
     "data": {
      "text/plain": [
       "array([ 2.93888937e+00,  4.57646455e-02,  1.88530017e-01, -1.03749304e-03])"
      ]
     },
     "execution_count": 42,
     "metadata": {},
     "output_type": "execute_result"
    }
   ],
   "source": [
    "def std_error(X, y):\n",
    "    d = 0\n",
    "    for i in x:\n",
    "        d+=np.power(i - np.mean(x), 2)\n",
    "    \n",
    "    b0 = np.sqrt(np.var(y, ddof=1)*((1/np.size(x))+(np.power(np.mean(x), 2)/d)))\n",
    "    b1 = np.sqrt((np.std(y)**2)/d)\n",
    "    \n",
    "    return b0, b1\n",
    "for i in x:\n",
    "    d+=np.power(i - np.mean(x), 2)\n",
    "stde = std_error()"
   ]
  },
  {
   "cell_type": "code",
   "execution_count": null,
   "id": "66374318",
   "metadata": {},
   "outputs": [],
   "source": []
  }
 ],
 "metadata": {
  "kernelspec": {
   "display_name": "Python 3",
   "language": "python",
   "name": "python3"
  },
  "language_info": {
   "codemirror_mode": {
    "name": "ipython",
    "version": 3
   },
   "file_extension": ".py",
   "mimetype": "text/x-python",
   "name": "python",
   "nbconvert_exporter": "python",
   "pygments_lexer": "ipython3",
   "version": "3.8.11"
  },
  "toc": {
   "base_numbering": 1,
   "nav_menu": {},
   "number_sections": true,
   "sideBar": true,
   "skip_h1_title": false,
   "title_cell": "Table of Contents",
   "title_sidebar": "Contents",
   "toc_cell": false,
   "toc_position": {},
   "toc_section_display": true,
   "toc_window_display": false
  }
 },
 "nbformat": 4,
 "nbformat_minor": 5
}
