{
 "cells": [
  {
   "cell_type": "markdown",
   "id": "104fef84",
   "metadata": {},
   "source": [
    "## Ordinary Least Squares\n",
    "Ordinary Least Squares(OLS) follows a linear relationship,\n",
    "$$\n",
    "\\hat{Y} \\approx \\beta_0+\\beta_1X\n",
    "$$\n",
    "\n",
    "Residual Sum of Squares(RSS) is used as cost function. It is described as a the distance of the true Y away from the predicted Y. Intuitively, each distance is squared to produce or weigh in more score to points that are farther to true Y.\n",
    "$$\n",
    "RSS = \\sum_{i=1}^{N}(y_i-\\hat{y}_i)^2\n",
    "$$\n",
    "\n",
    "### Estimating the coefficients,\n",
    "$$\n",
    "\\begin{align}\n",
    "\\hat{\\beta}_1 &= \\frac{\\sum_{i=1}^n(x_i-\\overline{x})(y_i-\\overline{y})}{\\sum_{i=1}^n(x_i-\\overline{x})^2}\\\\\n",
    "\\hat{\\beta}_0 &= \\overline{y}-\\hat{\\beta}_1\\overline{x}\n",
    "\\end{align}\n",
    "$$\n",
    "\n",
    "For assessing the accuracy of the coefficients, we will need to compute the standard error for each coefficients\n",
    "$$\n",
    "SE(\\hat{\\beta}_0)^2 = \\sigma^2\\left[\\frac{1}{n}+\\frac{\\overline{x}^2}{\\sum_{i=1}^n(x_i-\\overline{x})^2}\\right],\n",
    "SE(\\hat{\\beta}_1)^2 = \\frac{\\sigma^2}{\\sum_{i=1}^n(x_i-\\overline{x})^2}\n",
    "$$\n",
    "where $\\sigma^2 = Var(\\epsilon)$ or the variance of errors\n",
    "\n",
    "For the confidence interval(example 95%(approx 2 std) confidence interval),\n",
    "$$\n",
    "[\\hat{\\beta}_1 - 2 \\cdot SE(\\hat{\\beta}_1), \\hat{\\beta}_1 + 2 \\cdot SE(\\hat{\\beta}_1)],\\\\\n",
    "[\\hat{\\beta}_0 - 2 \\cdot SE(\\hat{\\beta}_0), \\hat{\\beta}_0 + 2 \\cdot SE(\\hat{\\beta}_0)]\n",
    "$$\n",
    "\n",
    "Hypotheis tests can also be performed on the coefficients,\n",
    "$$H_0: \\text{ There is no relationship between X and Y}$$\n",
    "$$H_\\alpha: \\text{ There is some relationship between X and Y}$$\n",
    "This corresponds to testing,\n",
    "$$H_0: \\beta_1 = 0$$\n",
    "$$H_\\alpha: \\beta_1 \\neq 0$$\n",
    "We will then compute the t-statistic given by\n",
    "$$\n",
    "t = \\frac{\\hat{\\beta}_1-0}{SE(\\hat{\\beta}_1)}\n",
    "$$\n",
    "Then lookup the p-value on the t-distribution table with n-2 degrees of freedom.\n",
    "\n",
    "<sub>Similar to Z score, where in z score is how many standard deviations is the estimate away from the mean.<br>T-statistic on the other hand, is a measure on how many standard error (error distance) is the coefficient away from zero<br>Zero since we want to know if coeffcient is equal to zero<br>P-value is high the more t-statistic is closer to zero, and if the sample size is small</sub>\n",
    "\n",
    "### Assessing accuracy of the model\n",
    "RSE or Residual Standard Error is the average amount that the response will deviate from the true regression line\n",
    "\n",
    "$$\n",
    "RSE = \\sqrt{\\frac{1}{n-2}RSS}\n",
    "$$\n",
    "\n",
    "$R^2$ provides a proportion--proportion of variance explained\n",
    "\n",
    "$$\n",
    "R^2 = \\frac{TSS-RSS}{TSS} = 1-\\frac{RSS}{TSS}\n",
    "$$\n",
    "\n",
    "where $TSS = \\sum(y_i-\\overline{y})^2$ or total sum of squares. $R^2$ tells us the proportion or ratio between the distance from the fitted line, and the distance away from the mean."
   ]
  },
  {
   "cell_type": "markdown",
   "id": "e0fb771e",
   "metadata": {},
   "source": [
    "## Applying OLS\n",
    "### Create functions for computation"
   ]
  },
  {
   "cell_type": "code",
   "execution_count": 29,
   "id": "c0c9dcb5",
   "metadata": {},
   "outputs": [],
   "source": [
    "import numpy as np\n",
    "import pandas as pd\n",
    "import matplotlib.pyplot as plt\n",
    "from scipy.stats import t\n",
    "import seaborn as sns\n",
    "sns.set()\n",
    "%matplotlib inline\n",
    "\n",
    "def ols(b0, b1, x):\n",
    "    y = b0+(b1*x)\n",
    "    return y\n",
    "\n",
    "def estimate_coefficients(X, Y):\n",
    "    n = 0\n",
    "    d = 0\n",
    "    y_mean = np.mean(Y)\n",
    "    x_mean = np.mean(X)\n",
    "    for i in range(len(X)):\n",
    "        for x, y in zip(X, Y):\n",
    "            _ = x - x_mean\n",
    "            d += _**2\n",
    "            n+= (_)*(y-y_mean)\n",
    "    b1 = n/d\n",
    "    b0 = y_mean-(b1*x_mean)\n",
    "    return b0, b1\n",
    "\n",
    "def rss(y, x, b0, b1):\n",
    "    return np.sum((y-(b0+(b1*x)))**2)\n",
    "\n",
    "def mse(y, x, b0, b1):\n",
    "    return rss(y, x, b0, b1)/len(y)\n",
    "\n",
    "def std_error(x, y):\n",
    "    d = 0\n",
    "    for i in x:\n",
    "        d+=np.power(i - np.mean(x), 2)\n",
    "    \n",
    "    b0 = np.sqrt(np.var(y, ddof=1)*((1/np.size(x))+(np.power(np.mean(x), 2)/d)))\n",
    "    b1 = np.sqrt((np.std(y)**2)/d)\n",
    "    \n",
    "    return b0, b1\n",
    "\n",
    "def rse(y, x, b0, b1):\n",
    "    return np.sqrt(rss(y, x, b0, b1)/(np.size(y)-2))\n",
    "\n",
    "def t_test(x, y, b0, b1):\n",
    "    std0, std1 = std_error(x, y)\n",
    "    return (b0-0)/std0, (b1-0)/std1\n",
    "\n",
    "def r2(y, rs):\n",
    "    tss = 0\n",
    "    for i in y:\n",
    "        tss+=(i-np.mean(y))**2\n",
    "    return 1-(rs/tss)\n",
    "\n",
    "def ols_result(x, y):\n",
    "    b0, b1 = estimate_coefficients(x, y)\n",
    "    e = y - ols(b0, b1, x)\n",
    "    stde0, stde1 = std_error(x, e)\n",
    "    t_stat0, t_stat1 = t_test(x, e, b0, b1)\n",
    "    p_value1, p_value0 = t.sf(t_stat1, df=n-2),t.sf(t_stat0, df=n-2)\n",
    "    return pd.DataFrame(index=['Intercept', 'B1'],\n",
    "            data={'Coefficient':[b0, b1],\n",
    "                  'Std. error':[stde0, stde1],\n",
    "                  't-statistic':[t_stat0, t_stat1],\n",
    "                  'p-value':[p_value0, p_value1],\n",
    "                  '95% Conf':[\n",
    "                      np.round([b0-(2*stde0), b0+(2*stde0)], 3),\n",
    "                      np.round([b1-(2*stde1), b1+(2*stde1)], 3)],\n",
    "                 }).round(4)"
   ]
  },
  {
   "cell_type": "markdown",
   "id": "6107caf2",
   "metadata": {},
   "source": [
    "### Load the data\n",
    "`Sales` is the `y label` while `TV`, `Radio`, `Newspaper` are the `x variables`."
   ]
  },
  {
   "cell_type": "code",
   "execution_count": 12,
   "id": "24f3aebc",
   "metadata": {},
   "outputs": [
    {
     "data": {
      "text/html": [
       "<div>\n",
       "<style scoped>\n",
       "    .dataframe tbody tr th:only-of-type {\n",
       "        vertical-align: middle;\n",
       "    }\n",
       "\n",
       "    .dataframe tbody tr th {\n",
       "        vertical-align: top;\n",
       "    }\n",
       "\n",
       "    .dataframe thead th {\n",
       "        text-align: right;\n",
       "    }\n",
       "</style>\n",
       "<table border=\"1\" class=\"dataframe\">\n",
       "  <thead>\n",
       "    <tr style=\"text-align: right;\">\n",
       "      <th></th>\n",
       "      <th>TV</th>\n",
       "      <th>Radio</th>\n",
       "      <th>Newspaper</th>\n",
       "      <th>Sales</th>\n",
       "    </tr>\n",
       "  </thead>\n",
       "  <tbody>\n",
       "    <tr>\n",
       "      <th>0</th>\n",
       "      <td>230.1</td>\n",
       "      <td>37.8</td>\n",
       "      <td>69.2</td>\n",
       "      <td>22.1</td>\n",
       "    </tr>\n",
       "    <tr>\n",
       "      <th>1</th>\n",
       "      <td>44.5</td>\n",
       "      <td>39.3</td>\n",
       "      <td>45.1</td>\n",
       "      <td>10.4</td>\n",
       "    </tr>\n",
       "    <tr>\n",
       "      <th>2</th>\n",
       "      <td>17.2</td>\n",
       "      <td>45.9</td>\n",
       "      <td>69.3</td>\n",
       "      <td>9.3</td>\n",
       "    </tr>\n",
       "    <tr>\n",
       "      <th>3</th>\n",
       "      <td>151.5</td>\n",
       "      <td>41.3</td>\n",
       "      <td>58.5</td>\n",
       "      <td>18.5</td>\n",
       "    </tr>\n",
       "    <tr>\n",
       "      <th>4</th>\n",
       "      <td>180.8</td>\n",
       "      <td>10.8</td>\n",
       "      <td>58.4</td>\n",
       "      <td>12.9</td>\n",
       "    </tr>\n",
       "  </tbody>\n",
       "</table>\n",
       "</div>"
      ],
      "text/plain": [
       "      TV  Radio  Newspaper  Sales\n",
       "0  230.1   37.8       69.2   22.1\n",
       "1   44.5   39.3       45.1   10.4\n",
       "2   17.2   45.9       69.3    9.3\n",
       "3  151.5   41.3       58.5   18.5\n",
       "4  180.8   10.8       58.4   12.9"
      ]
     },
     "execution_count": 12,
     "metadata": {},
     "output_type": "execute_result"
    }
   ],
   "source": [
    "df = pd.read_csv('../Data/Advertising.csv')\n",
    "df = df[df.columns[1:]]\n",
    "n = df.shape[0]\n",
    "df.head()"
   ]
  },
  {
   "cell_type": "markdown",
   "id": "145417e1",
   "metadata": {},
   "source": [
    "### Estimate Coefficients"
   ]
  },
  {
   "cell_type": "code",
   "execution_count": 13,
   "id": "e4a4223d",
   "metadata": {},
   "outputs": [
    {
     "data": {
      "text/plain": [
       "(7.032593549127483, 0.047536640433021186)"
      ]
     },
     "execution_count": 13,
     "metadata": {},
     "output_type": "execute_result"
    }
   ],
   "source": [
    "b0, b1 = estimate_coefficients(df.TV, df.Sales)\n",
    "b0, b1"
   ]
  },
  {
   "cell_type": "code",
   "execution_count": 14,
   "id": "a43485fc",
   "metadata": {},
   "outputs": [
    {
     "data": {
      "text/plain": [
       "2102.530583131351"
      ]
     },
     "execution_count": 14,
     "metadata": {},
     "output_type": "execute_result"
    }
   ],
   "source": [
    "rs = rss(df.Sales, df.TV, b0, b1)\n",
    "rs"
   ]
  },
  {
   "cell_type": "code",
   "execution_count": 15,
   "id": "62cccaa6",
   "metadata": {},
   "outputs": [
    {
     "data": {
      "image/png": "[encoded data removed]",
      "text/plain": [
       "<Figure size 360x216 with 1 Axes>"
      ]
     },
     "metadata": {
      "needs_background": "light"
     },
     "output_type": "display_data"
    }
   ],
   "source": [
    "plt.figure(figsize=(5,3))\n",
    "plt.title('b0={:.2f}, b1={:.2f}, RSS={:.2f}'.format(b0, b1, rs))\n",
    "sns.scatterplot(data = df,x = 'TV', y='Sales', linewidth=0, s=10, color='red')\n",
    "plt.plot(df.TV, [ols(b0, b1, i) for i in df.TV], linewidth=0.5)\n",
    "\n",
    "plt.show()"
   ]
  },
  {
   "cell_type": "markdown",
   "id": "12ca6a17",
   "metadata": {},
   "source": [
    "### Assess accuracy of the model\n",
    "`RSE` and `R2` of the model"
   ]
  },
  {
   "cell_type": "code",
   "execution_count": 16,
   "id": "2bb95041",
   "metadata": {},
   "outputs": [
    {
     "data": {
      "text/plain": [
       "3.258656368650462"
      ]
     },
     "execution_count": 16,
     "metadata": {},
     "output_type": "execute_result"
    }
   ],
   "source": [
    "rse(df.Sales, df.TV, b0, b1)"
   ]
  },
  {
   "cell_type": "code",
   "execution_count": 17,
   "id": "425e0a69",
   "metadata": {},
   "outputs": [
    {
     "data": {
      "text/plain": [
       "0.6118750508500709"
      ]
     },
     "execution_count": 17,
     "metadata": {},
     "output_type": "execute_result"
    }
   ],
   "source": [
    "r2(df.Sales, rs)"
   ]
  },
  {
   "cell_type": "markdown",
   "id": "8a5deee7",
   "metadata": {},
   "source": [
    "Compute the `95% confidence interval`"
   ]
  },
  {
   "cell_type": "code",
   "execution_count": 18,
   "id": "0ab0bdee",
   "metadata": {},
   "outputs": [
    {
     "data": {
      "text/plain": [
       "[0.042182399732927874, 0.0528908811331145]"
      ]
     },
     "execution_count": 18,
     "metadata": {},
     "output_type": "execute_result"
    }
   ],
   "source": [
    "# 95% Confidence  interval for b1\n",
    "# where in sigma is the standard deviation of residuals\n",
    "\n",
    "e = df.Sales - ols(b0, b1, df.TV)\n",
    "stde0, stde1 = std_error(df.TV, e)\n",
    "[b1-(2*stde1), \n",
    " b1+(2*stde1)]"
   ]
  },
  {
   "cell_type": "code",
   "execution_count": 25,
   "id": "42fdf9f2",
   "metadata": {},
   "outputs": [
    {
     "data": {
      "text/plain": [
       "numpy.float64"
      ]
     },
     "execution_count": 25,
     "metadata": {},
     "output_type": "execute_result"
    }
   ],
   "source": [
    "type(b1-(2*stde1))"
   ]
  },
  {
   "cell_type": "markdown",
   "id": "a180032e",
   "metadata": {},
   "source": [
    "For intercept"
   ]
  },
  {
   "cell_type": "code",
   "execution_count": 19,
   "id": "c44cab84",
   "metadata": {},
   "outputs": [
    {
     "data": {
      "text/plain": [
       "[6.119211284508046, 7.94597581374692]"
      ]
     },
     "execution_count": 19,
     "metadata": {},
     "output_type": "execute_result"
    }
   ],
   "source": [
    "[b0-(2*stde0), \n",
    " b0+(2*stde0)]"
   ]
  },
  {
   "cell_type": "markdown",
   "id": "39699864",
   "metadata": {},
   "source": [
    "Compute the `t-statistic`"
   ]
  },
  {
   "cell_type": "code",
   "execution_count": 20,
   "id": "0757339b",
   "metadata": {},
   "outputs": [
    {
     "data": {
      "text/plain": [
       "(15.399014895603715, 17.756631834722228)"
      ]
     },
     "execution_count": 20,
     "metadata": {},
     "output_type": "execute_result"
    }
   ],
   "source": [
    "t_stat1, t_stat0 = t_test(df.TV, e, b0, b1)\n",
    "t_stat1, t_stat0"
   ]
  },
  {
   "cell_type": "markdown",
   "id": "b630957f",
   "metadata": {},
   "source": [
    "Compute the `p-value`"
   ]
  },
  {
   "cell_type": "code",
   "execution_count": 21,
   "id": "86e5b817",
   "metadata": {},
   "outputs": [
    {
     "data": {
      "text/plain": [
       "'pb1 = 0.00000, pb0 = 0.00000'"
      ]
     },
     "execution_count": 21,
     "metadata": {},
     "output_type": "execute_result"
    }
   ],
   "source": [
    "p_value1, p_value0 = t.sf(t_stat1, df=n-2),t.sf(t_stat0, df=n-2)\n",
    "f'pb1 = {p_value1:.5f}, pb0 = {p_value0:.5f}'"
   ]
  },
  {
   "cell_type": "code",
   "execution_count": 30,
   "id": "68d7003e",
   "metadata": {},
   "outputs": [
    {
     "data": {
      "text/html": [
       "<div>\n",
       "<style scoped>\n",
       "    .dataframe tbody tr th:only-of-type {\n",
       "        vertical-align: middle;\n",
       "    }\n",
       "\n",
       "    .dataframe tbody tr th {\n",
       "        vertical-align: top;\n",
       "    }\n",
       "\n",
       "    .dataframe thead th {\n",
       "        text-align: right;\n",
       "    }\n",
       "</style>\n",
       "<table border=\"1\" class=\"dataframe\">\n",
       "  <thead>\n",
       "    <tr style=\"text-align: right;\">\n",
       "      <th></th>\n",
       "      <th>Coefficient</th>\n",
       "      <th>Std. error</th>\n",
       "      <th>t-statistic</th>\n",
       "      <th>p-value</th>\n",
       "      <th>95% Conf</th>\n",
       "    </tr>\n",
       "  </thead>\n",
       "  <tbody>\n",
       "    <tr>\n",
       "      <th>Intercept</th>\n",
       "      <td>7.0326</td>\n",
       "      <td>0.4567</td>\n",
       "      <td>15.3990</td>\n",
       "      <td>0.0</td>\n",
       "      <td>[6.119, 7.946]</td>\n",
       "    </tr>\n",
       "    <tr>\n",
       "      <th>B1</th>\n",
       "      <td>0.0475</td>\n",
       "      <td>0.0027</td>\n",
       "      <td>17.7566</td>\n",
       "      <td>0.0</td>\n",
       "      <td>[0.042, 0.053]</td>\n",
       "    </tr>\n",
       "  </tbody>\n",
       "</table>\n",
       "</div>"
      ],
      "text/plain": [
       "           Coefficient  Std. error  t-statistic  p-value        95% Conf\n",
       "Intercept       7.0326      0.4567      15.3990      0.0  [6.119, 7.946]\n",
       "B1              0.0475      0.0027      17.7566      0.0  [0.042, 0.053]"
      ]
     },
     "execution_count": 30,
     "metadata": {},
     "output_type": "execute_result"
    }
   ],
   "source": [
    "ols_result(df.TV, df.Sales)"
   ]
  },
  {
   "cell_type": "markdown",
   "id": "9007cfe5",
   "metadata": {},
   "source": [
    "With `Radio` variable"
   ]
  },
  {
   "cell_type": "code",
   "execution_count": 31,
   "id": "2b33d2fb",
   "metadata": {},
   "outputs": [
    {
     "data": {
      "text/html": [
       "<div>\n",
       "<style scoped>\n",
       "    .dataframe tbody tr th:only-of-type {\n",
       "        vertical-align: middle;\n",
       "    }\n",
       "\n",
       "    .dataframe tbody tr th {\n",
       "        vertical-align: top;\n",
       "    }\n",
       "\n",
       "    .dataframe thead th {\n",
       "        text-align: right;\n",
       "    }\n",
       "</style>\n",
       "<table border=\"1\" class=\"dataframe\">\n",
       "  <thead>\n",
       "    <tr style=\"text-align: right;\">\n",
       "      <th></th>\n",
       "      <th>Coefficient</th>\n",
       "      <th>Std. error</th>\n",
       "      <th>t-statistic</th>\n",
       "      <th>p-value</th>\n",
       "      <th>95% Conf</th>\n",
       "    </tr>\n",
       "  </thead>\n",
       "  <tbody>\n",
       "    <tr>\n",
       "      <th>Intercept</th>\n",
       "      <td>9.3116</td>\n",
       "      <td>0.5615</td>\n",
       "      <td>16.5840</td>\n",
       "      <td>0.0</td>\n",
       "      <td>[8.189, 10.435]</td>\n",
       "    </tr>\n",
       "    <tr>\n",
       "      <th>B1</th>\n",
       "      <td>0.2025</td>\n",
       "      <td>0.0203</td>\n",
       "      <td>9.9707</td>\n",
       "      <td>0.0</td>\n",
       "      <td>[0.162, 0.243]</td>\n",
       "    </tr>\n",
       "  </tbody>\n",
       "</table>\n",
       "</div>"
      ],
      "text/plain": [
       "           Coefficient  Std. error  t-statistic  p-value         95% Conf\n",
       "Intercept       9.3116      0.5615      16.5840      0.0  [8.189, 10.435]\n",
       "B1              0.2025      0.0203       9.9707      0.0   [0.162, 0.243]"
      ]
     },
     "execution_count": 31,
     "metadata": {},
     "output_type": "execute_result"
    }
   ],
   "source": [
    "ols_result(df.Radio, df.Sales)"
   ]
  },
  {
   "cell_type": "markdown",
   "id": "4644b813",
   "metadata": {},
   "source": [
    "With `Newspaper` as the `X` variable"
   ]
  },
  {
   "cell_type": "code",
   "execution_count": 32,
   "id": "d35bcd8b",
   "metadata": {},
   "outputs": [
    {
     "data": {
      "text/html": [
       "<div>\n",
       "<style scoped>\n",
       "    .dataframe tbody tr th:only-of-type {\n",
       "        vertical-align: middle;\n",
       "    }\n",
       "\n",
       "    .dataframe tbody tr th {\n",
       "        vertical-align: top;\n",
       "    }\n",
       "\n",
       "    .dataframe thead th {\n",
       "        text-align: right;\n",
       "    }\n",
       "</style>\n",
       "<table border=\"1\" class=\"dataframe\">\n",
       "  <thead>\n",
       "    <tr style=\"text-align: right;\">\n",
       "      <th></th>\n",
       "      <th>Coefficient</th>\n",
       "      <th>Std. error</th>\n",
       "      <th>t-statistic</th>\n",
       "      <th>p-value</th>\n",
       "      <th>95% Conf</th>\n",
       "    </tr>\n",
       "  </thead>\n",
       "  <tbody>\n",
       "    <tr>\n",
       "      <th>Intercept</th>\n",
       "      <td>12.3514</td>\n",
       "      <td>0.6199</td>\n",
       "      <td>19.9262</td>\n",
       "      <td>0.0000</td>\n",
       "      <td>[11.112, 13.591]</td>\n",
       "    </tr>\n",
       "    <tr>\n",
       "      <th>B1</th>\n",
       "      <td>0.0547</td>\n",
       "      <td>0.0165</td>\n",
       "      <td>3.3162</td>\n",
       "      <td>0.0005</td>\n",
       "      <td>[0.022, 0.088]</td>\n",
       "    </tr>\n",
       "  </tbody>\n",
       "</table>\n",
       "</div>"
      ],
      "text/plain": [
       "           Coefficient  Std. error  t-statistic  p-value          95% Conf\n",
       "Intercept      12.3514      0.6199      19.9262   0.0000  [11.112, 13.591]\n",
       "B1              0.0547      0.0165       3.3162   0.0005    [0.022, 0.088]"
      ]
     },
     "execution_count": 32,
     "metadata": {},
     "output_type": "execute_result"
    }
   ],
   "source": [
    "ols_result(df.Newspaper, df.Sales)"
   ]
  },
  {
   "cell_type": "markdown",
   "id": "5d5be269",
   "metadata": {},
   "source": [
    "## Multiple Linear Regression\n",
    "Multiple Linear Regression is a Linear Regression that uses two or more `X variables` to compute `y`\n",
    "$$\n",
    "\\hat{Y} \\approx \\beta_0+\\beta_1X_1+\\beta_2X_2+...+\\beta_pX_p+\\epsilon\n",
    "$$\n",
    "\n",
    "Let \n",
    "$$\n",
    "y = \\begin{bmatrix}y_1\\\\y_2\\\\\\vdots\\\\y_n\\end{bmatrix},\\hspace{1em}\n",
    "X = \\begin{bmatrix}\n",
    "1 &x_{11} &x_{12} &\\cdots &x_{1k}\\\\\n",
    "1 &x_{11} &x_{12} &\\cdots &x_{1k}\\\\\n",
    "\\vdots &\\vdots &\\vdots & &\\vdots\\\\\n",
    "1 &x_{n1} &x_{n2} &\\cdots &x_{nk}\n",
    "\\end{bmatrix}\\\\\n",
    "\\beta = \\begin{bmatrix}\\beta_0\\\\\\beta_1\\\\\\vdots\\\\\\beta_k\\end{bmatrix},\\hspace{1em}\n",
    "\\epsilon = \\begin{bmatrix}\\epsilon_1\\\\\\epsilon_2\\\\\\vdots\\\\\\epsilon_n\\end{bmatrix}\n",
    "$$\n",
    "\n",
    "With this compact notation, linear regression model can be written in the form\n",
    "$$y = X\\beta+\\epsilon$$\n",
    "\n",
    "<sub>Remember that an m x n matrix multiplied by n x p matrix = m x p matrix<br>For example, $X\\beta = (n \\times k)(k\\times1) = n \\times 1$</sub>\n",
    "\n",
    "In linear algeba terms, the least-squares parameter estimates $\\beta$ are the vectors that minimize\n",
    "$$\n",
    "\\sum_{i=1}^{n} = \\epsilon_i^2 = \\epsilon^T\\epsilon = (y-X\\beta)^T(y-X\\beta)\n",
    "$$\n",
    "\n",
    "If all $\\epsilon_i$ were zero, then\n",
    "$$\\hat{y} = X\\hat{\\beta}$$\n",
    "\n",
    "Then the residuals $y-\\hat{y}$ are orthogonal to the columns of X(**Orthogonal Decomposition**) thus,\n",
    "$$\n",
    "X^T(y-X\\hat{\\beta}) = 0\\\\\n",
    "X^Ty-X^TX\\hat{\\beta} = 0\\\\\n",
    "X^TX\\hat{\\beta} = X^Ty\\\\\n",
    "\\hat{\\beta} = (X^TX)^{-1}X^Ty\n",
    "$$"
   ]
  },
  {
   "cell_type": "code",
   "execution_count": 38,
   "id": "fa0204b6",
   "metadata": {},
   "outputs": [
    {
     "data": {
      "text/plain": [
       "(200, 4)"
      ]
     },
     "execution_count": 38,
     "metadata": {},
     "output_type": "execute_result"
    }
   ],
   "source": [
    "df['Coeff'] = 1\n",
    "df[['Coeff', 'TV', 'Radio', 'Newspaper']].values.shape"
   ]
  },
  {
   "cell_type": "code",
   "execution_count": 41,
   "id": "1d8bed74",
   "metadata": {},
   "outputs": [],
   "source": [
    "X = df[['Coeff', 'TV', 'Radio', 'Newspaper']].values\n",
    "y = df.Sales\n",
    "beta = np.matmul(np.linalg.inv(np.matmul(X.T, X)), np.matmul(X.T, y))"
   ]
  },
  {
   "cell_type": "code",
   "execution_count": 42,
   "id": "e4fbc274",
   "metadata": {},
   "outputs": [
    {
     "data": {
      "text/plain": [
       "array([ 2.93888937e+00,  4.57646455e-02,  1.88530017e-01, -1.03749304e-03])"
      ]
     },
     "execution_count": 42,
     "metadata": {},
     "output_type": "execute_result"
    }
   ],
   "source": [
    "def std_error(X, y):\n",
    "    d = 0\n",
    "    for i in x:\n",
    "        d+=np.power(i - np.mean(x), 2)\n",
    "    \n",
    "    b0 = np.sqrt(np.var(y, ddof=1)*((1/np.size(x))+(np.power(np.mean(x), 2)/d)))\n",
    "    b1 = np.sqrt((np.std(y)**2)/d)\n",
    "    \n",
    "    return b0, b1\n",
    "for i in x:\n",
    "    d+=np.power(i - np.mean(x), 2)\n",
    "stde = std_error()"
   ]
  },
  {
   "cell_type": "code",
   "execution_count": null,
   "id": "66374318",
   "metadata": {},
   "outputs": [],
   "source": []
  }
 ],
 "metadata": {
  "kernelspec": {
   "display_name": "Python 3 (ipykernel)",
   "language": "python",
   "name": "python3"
  },
  "language_info": {
   "codemirror_mode": {
    "name": "ipython",
    "version": 3
   },
   "file_extension": ".py",
   "mimetype": "text/x-python",
   "name": "python",
   "nbconvert_exporter": "python",
   "pygments_lexer": "ipython3",
   "version": "3.8.10"
  },
  "toc": {
   "base_numbering": 1,
   "nav_menu": {},
   "number_sections": true,
   "sideBar": true,
   "skip_h1_title": false,
   "title_cell": "Table of Contents",
   "title_sidebar": "Contents",
   "toc_cell": false,
   "toc_position": {},
   "toc_section_display": true,
   "toc_window_display": false
  }
 },
 "nbformat": 4,
 "nbformat_minor": 5
}
